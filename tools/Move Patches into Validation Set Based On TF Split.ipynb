{
 "cells": [
  {
   "cell_type": "code",
   "execution_count": null,
   "metadata": {},
   "outputs": [],
   "source": [
    "import matplotlib.pyplot as plt\n",
    "import numpy as np\n",
    "import pandas as pd\n",
    "import re\n",
    "from pathlib import Path\n",
    "import shutil\n",
    "import os\n",
    "from PIL import Image"
   ]
  },
  {
   "cell_type": "code",
   "execution_count": null,
   "metadata": {},
   "outputs": [],
   "source": [
    "MANIFEST_DF = pd.read_csv('metadata/calc_case_description_train_set.csv')\n",
    "\n",
    "def process_one_patch_path(patch_name):\n",
    "    fold1,fold2,abnorm_id = patch_name.stem.split('-')\n",
    "    fold1_bool = MANIFEST_DF['image file path'].str.find(fold1)>-1\n",
    "    fold2_bool = MANIFEST_DF['image file path'].str.find(fold2)>-1\n",
    "    abnorm_bool = MANIFEST_DF[\"abnormality id\"]==int(abnorm_id.replace(\"abnorm_\",\"\"))\n",
    "    find_bool = fold1_bool&fold2_bool&abnorm_bool\n",
    "    \n",
    "    fold1_bool2 = MANIFEST_DF['ROI mask file path'].str.find(fold1)>-1\n",
    "    fold2_bool2 = MANIFEST_DF['ROI mask file path'].str.find(fold2)>-1\n",
    "    abnorm_bool2 = MANIFEST_DF[\"abnormality id\"]==int(abnorm_id.replace(\"abnorm_\",\"\"))\n",
    "    find_bool2 = fold1_bool2&fold2_bool2&abnorm_bool2\n",
    "    \n",
    "    if find_bool.any():\n",
    "        res = MANIFEST_DF.loc[find_bool,[\"image file path\",\"ROI mask file path\"]].iloc[0]\n",
    "        name_components = res[\"ROI mask file path\"].split('/')\n",
    "        return '-'.join([name_components[1],name_components[2],abnorm_id]) + patch_name.suffix\n",
    "    elif find_bool2.any():\n",
    "        res = MANIFEST_DF.loc[find_bool2,[\"image file path\",\"ROI mask file path\"]].iloc[0]\n",
    "        name_components = res[\"ROI mask file path\"].split('/')\n",
    "        return '-'.join([name_components[1],name_components[2],abnorm_id]) + patch_name.suffix\n",
    "    else:\n",
    "        return np.nan\n",
    "\n",
    "def create_mapping(valid_mm):\n",
    "    ''' output: dataframe with 2 columns small_patches_name and large_patches_name'''\n",
    "    # this is a Series of small context patches\n",
    "    valid_mm_s = pd.Series(valid_mm)\n",
    "    # # remove the patches suffix from each patch filename, we're only using the filename not the path\n",
    "    valid_mm_s = valid_mm_s.apply(lambda x: Path('-'.join(x.stem.split('-')[:-1]) + x.suffix))\n",
    "    valid_mm_s.name =\"small_patches_name\"\n",
    "    valid_mm_s = valid_mm_s.drop_duplicates()\n",
    "    valid_mm_s = valid_mm_s.to_frame()\n",
    "    valid_mm_s[\"large_patches_name\"] = valid_mm_s[\"small_patches_name\"].apply(process_one_patch_path)\n",
    "    return valid_mm_s"
   ]
  },
  {
   "cell_type": "code",
   "execution_count": null,
   "metadata": {},
   "outputs": [],
   "source": [
    "destination_dir = Path('../cbis-ddsm-large-patch/valid')\n",
    "src_dir = Path('../cbis-ddsm-large-patch/train')\n",
    "\n",
    "label_class = \"MALIGNANT_CALCIFICATION\"\n",
    "\n",
    "valid_mm = list(Path(f'../cbis-ddsm-patches/valid/{label_class}').glob('*'))\n",
    "valid_mm_s = create_mapping(valid_mm)\n",
    "\n",
    "for _,s in valid_mm_s.iterrows():\n",
    "    fname_to_move_to_valid = s[\"large_patches_name\"]\n",
    "    if pd.isnull(fname_to_move_to_valid): continue\n",
    "    destination = destination_dir/label_class/fname_to_move_to_valid\n",
    "    src = src_dir/label_class/fname_to_move_to_valid\n",
    "    if not src.exists(): continue\n",
    "    if not destination.parent.exists():destination.parent.mkdir(parents=True)\n",
    "    print(destination)\n",
    "    src.replace(destination)"
   ]
  }
 ],
 "metadata": {
  "kernelspec": {
   "display_name": "mitproj",
   "language": "python",
   "name": "mitproj"
  },
  "language_info": {
   "codemirror_mode": {
    "name": "ipython",
    "version": 3
   },
   "file_extension": ".py",
   "mimetype": "text/x-python",
   "name": "python",
   "nbconvert_exporter": "python",
   "pygments_lexer": "ipython3",
   "version": "3.7.2"
  }
 },
 "nbformat": 4,
 "nbformat_minor": 4
}
