{
 "cells": [
  {
   "cell_type": "markdown",
   "id": "perfect-prison",
   "metadata": {},
   "source": [
    "# Remake patches with padding"
   ]
  },
  {
   "cell_type": "code",
   "execution_count": 1,
   "id": "herbal-irrigation",
   "metadata": {},
   "outputs": [
    {
     "name": "stdout",
     "output_type": "stream",
     "text": [
      "Num GPUs Available:  0\n"
     ]
    }
   ],
   "source": [
    "import tensorflow as tf\n",
    "import tensorflow_datasets as tfds\n",
    "import tensorlayer as tl\n",
    "from tensorflow_examples.models.pix2pix import pix2pix\n",
    "from IPython.display import clear_output\n",
    "import matplotlib.pyplot as plt\n",
    "import numpy as np\n",
    "import cv2\n",
    "import skimage\n",
    "import skimage.morphology\n",
    "from skimage.measure import label   \n",
    "import math\n",
    "import pandas as pd\n",
    "import re\n",
    "from pathlib import Path\n",
    "import imageio\n",
    "import scipy as sp\n",
    "import shutil\n",
    "import glob2\n",
    "from tqdm import tqdm\n",
    "import os\n",
    "print(\"Num GPUs Available: \", len(tf.config.list_physical_devices('GPU')))\n"
   ]
  },
  {
   "cell_type": "markdown",
   "id": "addressed-armor",
   "metadata": {},
   "source": [
    "## Define Processing Fuctions"
   ]
  },
  {
   "cell_type": "code",
   "execution_count": 2,
   "id": "attached-sheffield",
   "metadata": {},
   "outputs": [],
   "source": [
    "def cropBorders(img, l=0.01, r=0.01, u=0.04, d=0.04):\n",
    "    nrows, ncols = img.shape\n",
    "    # Get the start and end rows and columns\n",
    "    l_crop = int(ncols * l)\n",
    "    r_crop = int(ncols * (1 - r))\n",
    "    u_crop = int(nrows * u)\n",
    "    d_crop = int(nrows * (1 - d))\n",
    "    cropped_img = img[u_crop:d_crop, l_crop:r_crop]\n",
    "    return cropped_img\n",
    "\n",
    "def minMaxNormalise(img):\n",
    "    norm_img = (img - img.min()) / (img.max() - img.min())\n",
    "    return norm_img\n",
    "\n",
    "def globalBinarise(img, thresh, maxval):\n",
    "    binarised_img = np.zeros(img.shape, np.uint8)\n",
    "    binarised_img[img >= thresh] = maxval\n",
    "    return binarised_img\n",
    "\n",
    "def editMask(mask, ksize=(23, 23), operation=\"open\"):\n",
    "    kernel = cv2.getStructuringElement(shape=cv2.MORPH_RECT, ksize=ksize)\n",
    "    if operation == \"open\":\n",
    "        edited_mask = cv2.morphologyEx(mask, cv2.MORPH_OPEN, kernel)\n",
    "    elif operation == \"close\":\n",
    "        edited_mask = cv2.morphologyEx(mask, cv2.MORPH_CLOSE, kernel)\n",
    "    # Then dilate\n",
    "    edited_mask = cv2.morphologyEx(edited_mask, cv2.MORPH_DILATE, kernel)\n",
    "    return edited_mask\n",
    "\n",
    "def sortContoursByArea(contours, reverse=True):\n",
    "    # Sort contours based on contour area.\n",
    "    sorted_contours = sorted(contours, key=cv2.contourArea, reverse=reverse)\n",
    "    # Construct the list of corresponding bounding boxes.\n",
    "    bounding_boxes = [cv2.boundingRect(c) for c in sorted_contours]\n",
    "    return sorted_contours, bounding_boxes\n",
    "\n",
    "def xLargestBlobs(mask, top_x=None, reverse=True):\n",
    "    # Find all contours from binarised image.\n",
    "    # Note: parts of the image that you want to get should be white.\n",
    "    contours, hierarchy = cv2.findContours(\n",
    "        image=mask, mode=cv2.RETR_EXTERNAL, method=cv2.CHAIN_APPROX_NONE\n",
    "    )\n",
    "    n_contours = len(contours)\n",
    "    # Only get largest blob if there is at least 1 contour.\n",
    "    if n_contours > 0:\n",
    "        # Make sure that the number of contours to keep is at most equal\n",
    "        # to the number of contours present in the mask.\n",
    "        if n_contours < top_x or top_x == None:\n",
    "            top_x = n_contours\n",
    "        # Sort contours based on contour area.\n",
    "        sorted_contours, bounding_boxes = sortContoursByArea(\n",
    "            contours=contours, reverse=reverse\n",
    "        )\n",
    "        # Get the top X largest contours.\n",
    "        X_largest_contours = sorted_contours[0:top_x]\n",
    "        # Create black canvas to draw contours on.\n",
    "        to_draw_on = np.zeros(mask.shape, np.uint8)\n",
    "        # Draw contours in X_largest_contours.\n",
    "        X_largest_blobs = cv2.drawContours(\n",
    "            image=to_draw_on,  # Draw the contours on `to_draw_on`.\n",
    "            contours=X_largest_contours,  # List of contours to draw.\n",
    "            contourIdx=-1,  # Draw all contours in `contours`.\n",
    "            color=1,  # Draw the contours in white.\n",
    "            thickness=-1,  # Thickness of the contour lines.\n",
    "        )\n",
    "    return n_contours, X_largest_blobs\n",
    "\n",
    "def applyMask(img, mask):\n",
    "    masked_img = img.copy()\n",
    "    masked_img[mask == 0] = 0\n",
    "    return masked_img\n",
    "\n",
    "def checkLRFlip(mask):\n",
    "    # Get number of rows and columns in the image.\n",
    "    nrows, ncols = mask.shape\n",
    "    x_center = ncols // 2\n",
    "    y_center = nrows // 2\n",
    "    # Sum down each column.\n",
    "    col_sum = mask.sum(axis=0)\n",
    "    # Sum across each row.\n",
    "    row_sum = mask.sum(axis=1)\n",
    "    left_sum = sum(col_sum[0:x_center])\n",
    "    right_sum = sum(col_sum[x_center:-1])\n",
    "    if left_sum < right_sum:\n",
    "        LR_flip = True\n",
    "    else:\n",
    "        LR_flip = False\n",
    "    return LR_flip\n",
    "\n",
    "\n",
    "def makeLRFlip(img):\n",
    "    flipped_img = np.fliplr(img)\n",
    "    return flipped_img\n",
    "\n",
    "def clahe(img, clip=2.0, tile=(8, 8)):\n",
    "    img = cv2.normalize(\n",
    "        img,\n",
    "        None,\n",
    "        alpha=0,\n",
    "        beta=255,\n",
    "        norm_type=cv2.NORM_MINMAX,\n",
    "        dtype=cv2.CV_32F,\n",
    "    )\n",
    "    img_uint8 = img.astype(\"uint8\")\n",
    "    clahe_create = cv2.createCLAHE(clipLimit=clip, tileGridSize=tile)\n",
    "    clahe_img = clahe_create.apply(img_uint8)\n",
    "    return clahe_img\n",
    "\n",
    "def pad(img):\n",
    "    nrows, ncols = img.shape\n",
    "    # If padding is required...\n",
    "    if nrows != ncols:\n",
    "        # Take the longer side as the target shape.\n",
    "        if ncols < nrows:\n",
    "            target_shape = (nrows, nrows)\n",
    "        elif nrows < ncols:\n",
    "            target_shape = (ncols, ncols)\n",
    "        # pad.\n",
    "        padded_img = np.zeros(shape=target_shape)\n",
    "        padded_img[:nrows, :ncols] = img\n",
    "    # If padding is not required...\n",
    "    elif nrows == ncols:\n",
    "        # Return original image.\n",
    "        padded_img = img\n",
    "    return padded_img\n",
    "\n",
    "def display_images(display_list,titles,ncol=3):\n",
    "    plt.figure(figsize=(15,15))\n",
    "    nrow = int(np.ceil(len(display_list)/ncol))\n",
    "    \n",
    "    for i in range(len(display_list)):\n",
    "        plt.subplot(nrow,ncol,i+1)\n",
    "        plt.title(titles[i])\n",
    "        plt.imshow(display_list[i],cmap='gray')\n",
    "    plt.show()"
   ]
  },
  {
   "cell_type": "code",
   "execution_count": 3,
   "id": "developing-checklist",
   "metadata": {},
   "outputs": [],
   "source": [
    "def fullMammoPreprocess(\n",
    "    img,\n",
    "    l,\n",
    "    r,\n",
    "    d,\n",
    "    u,\n",
    "    thresh,\n",
    "    maxval,\n",
    "    ksize,\n",
    "    operation,\n",
    "    reverse,\n",
    "    top_x,\n",
    "    clip,\n",
    "    tile,\n",
    "):\n",
    "\n",
    "    # Step 1: Initial crop.\n",
    "    cropped_img = cropBorders(img=img, l=l, r=r, d=d, u=u)\n",
    "\n",
    "    # Step 2: Min-max normalise.\n",
    "    norm_img = minMaxNormalise(img=cropped_img)\n",
    "\n",
    "    # Step 3: Remove artefacts.\n",
    "    binarised_img = globalBinarise(img=norm_img, thresh=thresh, maxval=maxval)\n",
    "    edited_mask = editMask(\n",
    "        mask=binarised_img, ksize=(ksize, ksize), operation=operation\n",
    "    )\n",
    "    _, xlargest_mask = xLargestBlobs(mask=edited_mask, top_x=top_x, reverse=reverse)\n",
    "\n",
    "    masked_img = applyMask(img=norm_img, mask=xlargest_mask)\n",
    "\n",
    "    # Step 4: Horizontal flip.\n",
    "    lr_flip = checkLRFlip(mask=xlargest_mask)\n",
    "    if lr_flip:\n",
    "        flipped_img = makeLRFlip(img=masked_img)\n",
    "    elif not lr_flip:\n",
    "        flipped_img = masked_img\n",
    "\n",
    "    # Step 5: CLAHE enhancement.\n",
    "    clahe_img = clahe(img=flipped_img, clip=clip, tile=(tile, tile))\n",
    "\n",
    "    # Step 6: pad.\n",
    "    padded_img = pad(img=clahe_img)\n",
    "    padded_img = cv2.normalize(\n",
    "        padded_img,\n",
    "        None,\n",
    "        alpha=0,\n",
    "        beta=255,\n",
    "        norm_type=cv2.NORM_MINMAX,\n",
    "        dtype=cv2.CV_32F,\n",
    "    )\n",
    "\n",
    "    # Step 7: Min-max normalise.\n",
    "    img_pre = minMaxNormalise(img=padded_img)\n",
    "\n",
    "    return img_pre, lr_flip\n",
    "\n",
    "def maskPreprocess(mask, lr_flip):\n",
    "\n",
    "    # Step 1: Initial crop.\n",
    "    mask = cropBorders(img=mask)\n",
    "\n",
    "    # Step 2: Horizontal flip.\n",
    "    if lr_flip:\n",
    "        mask = makeLRFlip(img=mask)\n",
    "\n",
    "    # Step 3: Pad.\n",
    "    mask_pre = pad(img=mask)\n",
    "\n",
    "    return mask_pre\n",
    "\n",
    "def sumMasks(mask_list):\n",
    "\n",
    "    summed_mask = np.zeros(mask_list[0].shape)\n",
    "\n",
    "    for arr in mask_list:\n",
    "        summed_mask = np.add(summed_mask, arr)\n",
    "\n",
    "    # Binarise (there might be some overlap, resulting in pixels with\n",
    "    # values of 510, 765, etc...)\n",
    "    _, summed_mask_bw = cv2.threshold(\n",
    "        src=summed_mask, thresh=1, maxval=255, type=cv2.THRESH_BINARY\n",
    "    )\n",
    "\n",
    "    return summed_mask_bw\n"
   ]
  },
  {
   "cell_type": "code",
   "execution_count": 4,
   "id": "medical-finish",
   "metadata": {},
   "outputs": [],
   "source": [
    "l = 0.01\n",
    "r = 0.01\n",
    "u = 0.04\n",
    "d = 0.04\n",
    "thresh = 0.1\n",
    "maxval = 1.0\n",
    "ksize = 23\n",
    "operation = \"open\"\n",
    "reverse = True\n",
    "top_x = 1\n",
    "clip = 2.0\n",
    "tile = 8"
   ]
  },
  {
   "cell_type": "markdown",
   "id": "engaged-piano",
   "metadata": {},
   "source": [
    "## Process the images"
   ]
  },
  {
   "cell_type": "markdown",
   "id": "responsible-tunnel",
   "metadata": {},
   "source": [
    "### Calc Training"
   ]
  },
  {
   "cell_type": "code",
   "execution_count": 5,
   "id": "conservative-tennis",
   "metadata": {},
   "outputs": [],
   "source": [
    "input_topdir = '/home/alangenb_mit_edu/tensorflow_datasets/downloads/manual/'\n",
    "output_topdir = '/home/alangenb_mit_edu/tensorflow_datasets/downloads/new-patch/train/'\n",
    "df = pd.read_csv('/home/alangenb_mit_edu/manifests/calc_case_description_train_set.csv')"
   ]
  },
  {
   "cell_type": "code",
   "execution_count": 6,
   "id": "periodic-argument",
   "metadata": {},
   "outputs": [],
   "source": [
    "df[\"samp_prefix\"] = [re.sub(r'\\/.*','',x) for x in df[\"image file path\"].tolist()]\n",
    "df[\"input_img_path\"] = [input_topdir + re.sub(r'\\.dcm$','.png',x) for x in df[\"image file path\"].tolist()]\n",
    "df[\"input_patch_path\"] = [input_topdir + re.sub(r'\\.dcm$','.png',x).rstrip() for x in df[\"ROI mask file path\"].tolist()]\n",
    "df[\"input_mask_path\"] = [input_topdir + re.sub(r'\\.dcm.*','.png',x).rstrip() for x in df[\"cropped image file path\"].tolist()]\n",
    "df[\"patch_prefix\"] = [re.sub(r'\\/','-',re.sub(r'.*_.\\/|\\/[01]+\\.png.*','',x)) for x in df[\"input_patch_path\"].tolist()]\n",
    "df[\"type\"] = [re.sub(r'_WITHOUT_CALLBACK','',x)+\"_CALCIFICATION\" for x in df[\"pathology\"].tolist()]\n",
    "unitype = np.unique(df[\"type\"].tolist())\n",
    "outdirs = [output_topdir + x + \"/\" for x in unitype]\n",
    "for j in range(len(outdirs)):\n",
    "    if not os.path.exists(outdirs[j]):\n",
    "        os.mkdir(outdirs[j])\n",
    "df[\"output_patch_path\"] = [output_topdir+df[\"type\"].tolist()[x]+\"/\"+df[\"patch_prefix\"].tolist()[x]+\"-abnorm_\"+\n",
    "                           str(df[\"abnormality id\"].tolist()[x])+\".png\" for x in np.arange(df.shape[0])]"
   ]
  },
  {
   "cell_type": "code",
   "execution_count": 7,
   "id": "dying-karen",
   "metadata": {},
   "outputs": [
    {
     "name": "stderr",
     "output_type": "stream",
     "text": [
      "100%|██████████| 1546/1546 [25:37<00:00,  1.01it/s] \n"
     ]
    }
   ],
   "source": [
    "for i in tqdm(range(df.shape[0])):\n",
    "    image = imageio.imread(df[\"input_img_path\"].tolist()[i])\n",
    "    mask = imageio.imread(df[\"input_mask_path\"].tolist()[i])\n",
    "    roi = imageio.imread(re.sub(r'1.png','0.png',df[\"input_mask_path\"].tolist()[i]))\n",
    "    if np.median(mask)>0:\n",
    "        tmp = mask\n",
    "        mask = roi\n",
    "        roi = tmp\n",
    "    rows,cols = np.where(mask>0)\n",
    "    xmin = min(rows); xmax = max(rows); ymin = min(cols); ymax = max(cols)\n",
    "    input_patch = image[xmin:xmax,ymin:ymax]\n",
    "    xdiff = xmax-xmin; ydiff = ymax-ymin\n",
    "    xpad = int(np.ceil(xdiff/2)); ypad = int(np.ceil(ydiff/2))\n",
    "    \n",
    "    if xmin-xpad<0:\n",
    "        xmin = 0; xmax = min(2*xdiff,image.shape[0])\n",
    "    elif xmax+xpad>image.shape[0]:\n",
    "        xmax = image.shape[0]; xmin = max(xmax-2*xdiff,0)\n",
    "    else:\n",
    "        xmin = xmin-xpad; xmax = xmax+xpad\n",
    "    \n",
    "    if ymin-ypad<0:\n",
    "        ymin = 0; ymax = min(2*ydiff,image.shape[1])\n",
    "    elif ymax+ypad>image.shape[1]:\n",
    "        ymax = image.shape[1]; ymin = max(ymax-2*ydiff,0)\n",
    "    else:\n",
    "        ymin = ymin-ypad; ymax = ymax+ypad\n",
    "        \n",
    "    output_patch = image[xmin:xmax,ymin:ymax]\n",
    "    \n",
    "    imageio.imwrite(df[\"output_patch_path\"].tolist()[i],output_patch)"
   ]
  },
  {
   "cell_type": "markdown",
   "id": "patient-beauty",
   "metadata": {},
   "source": [
    "### Calc Test"
   ]
  },
  {
   "cell_type": "code",
   "execution_count": 8,
   "id": "stylish-treaty",
   "metadata": {},
   "outputs": [],
   "source": [
    "input_topdir = '/home/alangenb_mit_edu/tensorflow_datasets/downloads/manual/'\n",
    "output_topdir = '/home/alangenb_mit_edu/tensorflow_datasets/downloads/new-patch/test/'\n",
    "df = pd.read_csv('/home/alangenb_mit_edu/manifests/calc_case_description_test_set.csv')"
   ]
  },
  {
   "cell_type": "code",
   "execution_count": 9,
   "id": "constitutional-inventory",
   "metadata": {},
   "outputs": [
    {
     "name": "stdout",
     "output_type": "stream",
     "text": [
      "all ouput names unique = True\n"
     ]
    }
   ],
   "source": [
    "df[\"samp_prefix\"] = [re.sub(r'\\/.*','',x) for x in df[\"image file path\"].tolist()]\n",
    "df[\"input_img_path\"] = [input_topdir + re.sub(r'\\.dcm$','.png',x) for x in df[\"image file path\"].tolist()]\n",
    "df[\"input_patch_path\"] = [input_topdir + re.sub(r'\\.dcm$','.png',x).rstrip() for x in df[\"ROI mask file path\"].tolist()]\n",
    "df[\"input_mask_path\"] = [input_topdir + re.sub(r'\\.dcm.*','.png',x).rstrip() for x in df[\"cropped image file path\"].tolist()]\n",
    "df[\"patch_prefix\"] = [re.sub(r'\\/','-',re.sub(r'.*_.\\/|\\/[01]+\\.png.*','',x)) for x in df[\"input_patch_path\"].tolist()]\n",
    "df[\"type\"] = [re.sub(r'_WITHOUT_CALLBACK','',x)+\"_CALCIFICATION\" for x in df[\"pathology\"].tolist()]\n",
    "unitype = np.unique(df[\"type\"].tolist())\n",
    "outdirs = [output_topdir + x + \"/\" for x in unitype]\n",
    "for j in range(len(outdirs)):\n",
    "    if not os.path.exists(outdirs[j]):\n",
    "        os.mkdir(outdirs[j])\n",
    "df[\"output_patch_path\"] = [output_topdir+df[\"type\"].tolist()[x]+\"/\"+df[\"patch_prefix\"].tolist()[x]+\"-abnorm_\"+\n",
    "                           str(df[\"abnormality id\"].tolist()[x])+\".png\" for x in np.arange(df.shape[0])]\n",
    "\n",
    "print(\"all ouput names unique = \"+str((len(df[\"output_patch_path\"].tolist())==len(np.unique(df[\"output_patch_path\"].tolist())))\n",
    "                                &all(~np.array([Path(x).is_file() for x in df[\"output_patch_path\"].tolist()]))))"
   ]
  },
  {
   "cell_type": "code",
   "execution_count": 10,
   "id": "clinical-reminder",
   "metadata": {},
   "outputs": [
    {
     "name": "stderr",
     "output_type": "stream",
     "text": [
      "100%|██████████| 326/326 [04:31<00:00,  1.20it/s]\n"
     ]
    }
   ],
   "source": [
    "for i in tqdm(range(df.shape[0])):\n",
    "    image = imageio.imread(df[\"input_img_path\"].tolist()[i])\n",
    "    mask = imageio.imread(df[\"input_mask_path\"].tolist()[i])\n",
    "    roi = imageio.imread(re.sub(r'1.png','0.png',df[\"input_mask_path\"].tolist()[i]))\n",
    "    if np.median(mask)>0:\n",
    "        tmp = mask\n",
    "        mask = roi\n",
    "        roi = tmp\n",
    "    rows,cols = np.where(mask>0)\n",
    "    xmin = min(rows); xmax = max(rows); ymin = min(cols); ymax = max(cols)\n",
    "    input_patch = image[xmin:xmax,ymin:ymax]\n",
    "    xdiff = xmax-xmin; ydiff = ymax-ymin\n",
    "    xpad = int(np.ceil(xdiff/2)); ypad = int(np.ceil(ydiff/2))\n",
    "    \n",
    "    if xmin-xpad<0:\n",
    "        xmin = 0; xmax = min(2*xdiff,image.shape[0])\n",
    "    elif xmax+xpad>image.shape[0]:\n",
    "        xmax = image.shape[0]; xmin = max(xmax-2*xdiff,0)\n",
    "    else:\n",
    "        xmin = xmin-xpad; xmax = xmax+xpad\n",
    "    \n",
    "    if ymin-ypad<0:\n",
    "        ymin = 0; ymax = min(2*ydiff,image.shape[1])\n",
    "    elif ymax+ypad>image.shape[1]:\n",
    "        ymax = image.shape[1]; ymin = max(ymax-2*ydiff,0)\n",
    "    else:\n",
    "        ymin = ymin-ypad; ymax = ymax+ypad\n",
    "        \n",
    "    output_patch = image[xmin:xmax,ymin:ymax]\n",
    "    \n",
    "    imageio.imwrite(df[\"output_patch_path\"].tolist()[i],output_patch)"
   ]
  },
  {
   "cell_type": "markdown",
   "id": "generous-advertiser",
   "metadata": {},
   "source": [
    "### Mass Train"
   ]
  },
  {
   "cell_type": "code",
   "execution_count": 111,
   "id": "seeing-shirt",
   "metadata": {},
   "outputs": [],
   "source": [
    "input_topdir = '/home/alangenb_mit_edu/tensorflow_datasets/downloads/manual/'\n",
    "output_topdir = '/home/alangenb_mit_edu/tensorflow_datasets/downloads/new-patch/train/'\n",
    "df = pd.read_csv('/home/alangenb_mit_edu/manifests/mass_case_description_train_set.csv')"
   ]
  },
  {
   "cell_type": "code",
   "execution_count": 112,
   "id": "characteristic-clause",
   "metadata": {},
   "outputs": [
    {
     "name": "stdout",
     "output_type": "stream",
     "text": [
      "all ouput names unique = False\n"
     ]
    }
   ],
   "source": [
    "df[\"samp_prefix\"] = [re.sub(r'\\/.*','',x) for x in df[\"image file path\"].tolist()]\n",
    "df[\"input_img_path\"] = [input_topdir + re.sub(r'\\.dcm$','.png',x) for x in df[\"image file path\"].tolist()]\n",
    "df[\"input_patch_path\"] = [input_topdir + re.sub(r'\\.dcm$','.png',x).rstrip() for x in df[\"ROI mask file path\"].tolist()]\n",
    "df[\"input_mask_path\"] = [input_topdir + re.sub(r'\\.dcm.*','.png',x).rstrip() for x in df[\"cropped image file path\"].tolist()]\n",
    "df[\"patch_prefix\"] = [re.sub(r'\\/','-',re.sub(r'.*_.\\/|\\/[01]+\\.png.*','',x)) for x in df[\"input_patch_path\"].tolist()]\n",
    "df[\"type\"] = [re.sub(r'_WITHOUT_CALLBACK','',x)+\"_MASS\" for x in df[\"pathology\"].tolist()]\n",
    "unitype = np.unique(df[\"type\"].tolist())\n",
    "outdirs = [output_topdir + x + \"/\" for x in unitype]\n",
    "for j in range(len(outdirs)):\n",
    "    if not os.path.exists(outdirs[j]):\n",
    "        os.mkdir(outdirs[j])\n",
    "df[\"output_patch_path\"] = [output_topdir+df[\"type\"].tolist()[x]+\"/\"+df[\"patch_prefix\"].tolist()[x]+\"-abnorm_\"+\n",
    "                           str(df[\"abnormality id\"].tolist()[x])+\".png\" for x in np.arange(df.shape[0])]\n",
    "last_idx = np.array([int(re.sub(r'\\.dcm','',x).rstrip()[-1]) for x in df[\"ROI mask file path\"].tolist()])\n",
    "df = df.iloc[np.where(last_idx==1)[0],:]\n",
    "\n",
    "print(\"all ouput names unique = \"+str((len(df[\"output_patch_path\"].tolist())==len(np.unique(df[\"output_patch_path\"].tolist())))\n",
    "                                &all(~np.array([Path(x).is_file() for x in df[\"output_patch_path\"].tolist()]))))"
   ]
  },
  {
   "cell_type": "code",
   "execution_count": 114,
   "id": "iraqi-prague",
   "metadata": {},
   "outputs": [
    {
     "name": "stderr",
     "output_type": "stream",
     "text": [
      "100%|██████████| 1226/1226 [10:44<00:00,  1.90it/s]\n"
     ]
    }
   ],
   "source": [
    "for i in tqdm(range(df.shape[0])):\n",
    "    image = imageio.imread(df[\"input_img_path\"].tolist()[i])\n",
    "    mask = imageio.imread(df[\"input_mask_path\"].tolist()[i])\n",
    "    roi = imageio.imread(re.sub(r'0.png','1.png',df[\"input_mask_path\"].tolist()[i]))\n",
    "    if np.median(mask)>0:\n",
    "        tmp = mask\n",
    "        mask = roi\n",
    "        roi = tmp\n",
    "    rows,cols = np.where(mask>0)\n",
    "    xmin = min(rows); xmax = max(rows); ymin = min(cols); ymax = max(cols)\n",
    "    input_patch = image[xmin:xmax,ymin:ymax]\n",
    "    xdiff = xmax-xmin; ydiff = ymax-ymin\n",
    "    xpad = int(np.ceil(xdiff/2)); ypad = int(np.ceil(ydiff/2))\n",
    "    \n",
    "    if xmin-xpad<0:\n",
    "        xmin = 0; xmax = min(2*xdiff,image.shape[0])\n",
    "    elif xmax+xpad>image.shape[0]:\n",
    "        xmax = image.shape[0]; xmin = max(xmax-2*xdiff,0)\n",
    "    else:\n",
    "        xmin = xmin-xpad; xmax = xmax+xpad\n",
    "    \n",
    "    if ymin-ypad<0:\n",
    "        ymin = 0; ymax = min(2*ydiff,image.shape[1])\n",
    "    elif ymax+ypad>image.shape[1]:\n",
    "        ymax = image.shape[1]; ymin = max(ymax-2*ydiff,0)\n",
    "    else:\n",
    "        ymin = ymin-ypad; ymax = ymax+ypad\n",
    "        \n",
    "    output_patch = image[xmin:xmax,ymin:ymax]\n",
    "    \n",
    "    imageio.imwrite(df[\"output_patch_path\"].tolist()[i],output_patch)"
   ]
  },
  {
   "cell_type": "markdown",
   "id": "enabling-boxing",
   "metadata": {},
   "source": [
    "### Mass test"
   ]
  },
  {
   "cell_type": "code",
   "execution_count": 115,
   "id": "static-tourist",
   "metadata": {},
   "outputs": [],
   "source": [
    "input_topdir = '/home/alangenb_mit_edu/tensorflow_datasets/downloads/manual/'\n",
    "output_topdir = '/home/alangenb_mit_edu/tensorflow_datasets/downloads/new-patch/test/'\n",
    "df = pd.read_csv('/home/alangenb_mit_edu/manifests/mass_case_description_test_set.csv')"
   ]
  },
  {
   "cell_type": "code",
   "execution_count": 116,
   "id": "unknown-moderator",
   "metadata": {},
   "outputs": [
    {
     "name": "stdout",
     "output_type": "stream",
     "text": [
      "all ouput names unique = True\n"
     ]
    }
   ],
   "source": [
    "df[\"samp_prefix\"] = [re.sub(r'\\/.*','',x) for x in df[\"image file path\"].tolist()]\n",
    "df[\"input_img_path\"] = [input_topdir + re.sub(r'\\.dcm$','.png',x) for x in df[\"image file path\"].tolist()]\n",
    "df[\"input_patch_path\"] = [input_topdir + re.sub(r'\\.dcm$','.png',x).rstrip() for x in df[\"ROI mask file path\"].tolist()]\n",
    "df[\"input_mask_path\"] = [input_topdir + re.sub(r'\\.dcm.*','.png',x).rstrip() for x in df[\"cropped image file path\"].tolist()]\n",
    "df[\"patch_prefix\"] = [re.sub(r'\\/','-',re.sub(r'.*_.\\/|\\/[01]+\\.png.*','',x)) for x in df[\"input_patch_path\"].tolist()]\n",
    "df[\"type\"] = [re.sub(r'_WITHOUT_CALLBACK','',x)+\"_MASS\" for x in df[\"pathology\"].tolist()]\n",
    "unitype = np.unique(df[\"type\"].tolist())\n",
    "outdirs = [output_topdir + x + \"/\" for x in unitype]\n",
    "for j in range(len(outdirs)):\n",
    "    if not os.path.exists(outdirs[j]):\n",
    "        os.mkdir(outdirs[j])\n",
    "df[\"output_patch_path\"] = [output_topdir+df[\"type\"].tolist()[x]+\"/\"+df[\"patch_prefix\"].tolist()[x]+\"-abnorm_\"+\n",
    "                           str(df[\"abnormality id\"].tolist()[x])+\".png\" for x in np.arange(df.shape[0])]\n",
    "last_idx = np.array([int(re.sub(r'\\.dcm','',x).rstrip()[-1]) for x in df[\"ROI mask file path\"].tolist()])\n",
    "df = df.iloc[np.where(last_idx==1)[0],:]\n",
    "\n",
    "print(\"all ouput names unique = \"+str((len(df[\"output_patch_path\"].tolist())==len(np.unique(df[\"output_patch_path\"].tolist())))\n",
    "                                &all(~np.array([Path(x).is_file() for x in df[\"output_patch_path\"].tolist()]))))"
   ]
  },
  {
   "cell_type": "code",
   "execution_count": 127,
   "id": "desperate-express",
   "metadata": {},
   "outputs": [
    {
     "name": "stderr",
     "output_type": "stream",
     "text": [
      " 27%|██▋       | 99/367 [00:50<02:15,  1.98it/s]\n"
     ]
    },
    {
     "ename": "KeyboardInterrupt",
     "evalue": "",
     "output_type": "error",
     "traceback": [
      "\u001b[0;31m---------------------------------------------------------------------------\u001b[0m",
      "\u001b[0;31mAttributeError\u001b[0m                            Traceback (most recent call last)",
      "\u001b[0;32m/opt/conda/lib/python3.7/site-packages/PIL/ImageFile.py\u001b[0m in \u001b[0;36m_save\u001b[0;34m(im, fp, tile, bufsize)\u001b[0m\n\u001b[1;32m    509\u001b[0m     \u001b[0;32mtry\u001b[0m\u001b[0;34m:\u001b[0m\u001b[0;34m\u001b[0m\u001b[0;34m\u001b[0m\u001b[0m\n\u001b[0;32m--> 510\u001b[0;31m         \u001b[0mfh\u001b[0m \u001b[0;34m=\u001b[0m \u001b[0mfp\u001b[0m\u001b[0;34m.\u001b[0m\u001b[0mfileno\u001b[0m\u001b[0;34m(\u001b[0m\u001b[0;34m)\u001b[0m\u001b[0;34m\u001b[0m\u001b[0;34m\u001b[0m\u001b[0m\n\u001b[0m\u001b[1;32m    511\u001b[0m         \u001b[0mfp\u001b[0m\u001b[0;34m.\u001b[0m\u001b[0mflush\u001b[0m\u001b[0;34m(\u001b[0m\u001b[0;34m)\u001b[0m\u001b[0;34m\u001b[0m\u001b[0;34m\u001b[0m\u001b[0m\n",
      "\u001b[0;31mAttributeError\u001b[0m: '_idat' object has no attribute 'fileno'",
      "\nDuring handling of the above exception, another exception occurred:\n",
      "\u001b[0;31mKeyboardInterrupt\u001b[0m                         Traceback (most recent call last)",
      "\u001b[0;32m<ipython-input-127-83f3657b9a09>\u001b[0m in \u001b[0;36m<module>\u001b[0;34m\u001b[0m\n\u001b[1;32m     29\u001b[0m     \u001b[0moutput_patch\u001b[0m \u001b[0;34m=\u001b[0m \u001b[0mimage\u001b[0m\u001b[0;34m[\u001b[0m\u001b[0mxmin\u001b[0m\u001b[0;34m:\u001b[0m\u001b[0mxmax\u001b[0m\u001b[0;34m,\u001b[0m\u001b[0mymin\u001b[0m\u001b[0;34m:\u001b[0m\u001b[0mymax\u001b[0m\u001b[0;34m]\u001b[0m\u001b[0;34m\u001b[0m\u001b[0;34m\u001b[0m\u001b[0m\n\u001b[1;32m     30\u001b[0m \u001b[0;34m\u001b[0m\u001b[0m\n\u001b[0;32m---> 31\u001b[0;31m     \u001b[0mimageio\u001b[0m\u001b[0;34m.\u001b[0m\u001b[0mimwrite\u001b[0m\u001b[0;34m(\u001b[0m\u001b[0mdf\u001b[0m\u001b[0;34m[\u001b[0m\u001b[0;34m\"output_patch_path\"\u001b[0m\u001b[0;34m]\u001b[0m\u001b[0;34m.\u001b[0m\u001b[0mtolist\u001b[0m\u001b[0;34m(\u001b[0m\u001b[0;34m)\u001b[0m\u001b[0;34m[\u001b[0m\u001b[0mi\u001b[0m\u001b[0;34m]\u001b[0m\u001b[0;34m,\u001b[0m\u001b[0moutput_patch\u001b[0m\u001b[0;34m)\u001b[0m\u001b[0;34m\u001b[0m\u001b[0;34m\u001b[0m\u001b[0m\n\u001b[0m",
      "\u001b[0;32m/opt/conda/lib/python3.7/site-packages/imageio/core/functions.py\u001b[0m in \u001b[0;36mimwrite\u001b[0;34m(uri, im, format, **kwargs)\u001b[0m\n\u001b[1;32m    303\u001b[0m     \u001b[0mwriter\u001b[0m \u001b[0;34m=\u001b[0m \u001b[0mget_writer\u001b[0m\u001b[0;34m(\u001b[0m\u001b[0muri\u001b[0m\u001b[0;34m,\u001b[0m \u001b[0mformat\u001b[0m\u001b[0;34m,\u001b[0m \u001b[0;34m\"i\"\u001b[0m\u001b[0;34m,\u001b[0m \u001b[0;34m**\u001b[0m\u001b[0mkwargs\u001b[0m\u001b[0;34m)\u001b[0m\u001b[0;34m\u001b[0m\u001b[0;34m\u001b[0m\u001b[0m\n\u001b[1;32m    304\u001b[0m     \u001b[0;32mwith\u001b[0m \u001b[0mwriter\u001b[0m\u001b[0;34m:\u001b[0m\u001b[0;34m\u001b[0m\u001b[0;34m\u001b[0m\u001b[0m\n\u001b[0;32m--> 305\u001b[0;31m         \u001b[0mwriter\u001b[0m\u001b[0;34m.\u001b[0m\u001b[0mappend_data\u001b[0m\u001b[0;34m(\u001b[0m\u001b[0mim\u001b[0m\u001b[0;34m)\u001b[0m\u001b[0;34m\u001b[0m\u001b[0;34m\u001b[0m\u001b[0m\n\u001b[0m\u001b[1;32m    306\u001b[0m \u001b[0;34m\u001b[0m\u001b[0m\n\u001b[1;32m    307\u001b[0m     \u001b[0;31m# Return a result if there is any\u001b[0m\u001b[0;34m\u001b[0m\u001b[0;34m\u001b[0m\u001b[0;34m\u001b[0m\u001b[0m\n",
      "\u001b[0;32m/opt/conda/lib/python3.7/site-packages/imageio/core/format.py\u001b[0m in \u001b[0;36mappend_data\u001b[0;34m(self, im, meta)\u001b[0m\n\u001b[1;32m    500\u001b[0m             \u001b[0mim\u001b[0m \u001b[0;34m=\u001b[0m \u001b[0masarray\u001b[0m\u001b[0;34m(\u001b[0m\u001b[0mim\u001b[0m\u001b[0;34m)\u001b[0m\u001b[0;34m\u001b[0m\u001b[0;34m\u001b[0m\u001b[0m\n\u001b[1;32m    501\u001b[0m             \u001b[0;31m# Call\u001b[0m\u001b[0;34m\u001b[0m\u001b[0;34m\u001b[0m\u001b[0;34m\u001b[0m\u001b[0m\n\u001b[0;32m--> 502\u001b[0;31m             \u001b[0;32mreturn\u001b[0m \u001b[0mself\u001b[0m\u001b[0;34m.\u001b[0m\u001b[0m_append_data\u001b[0m\u001b[0;34m(\u001b[0m\u001b[0mim\u001b[0m\u001b[0;34m,\u001b[0m \u001b[0mtotal_meta\u001b[0m\u001b[0;34m)\u001b[0m\u001b[0;34m\u001b[0m\u001b[0;34m\u001b[0m\u001b[0m\n\u001b[0m\u001b[1;32m    503\u001b[0m \u001b[0;34m\u001b[0m\u001b[0m\n\u001b[1;32m    504\u001b[0m         \u001b[0;32mdef\u001b[0m \u001b[0mset_meta_data\u001b[0m\u001b[0;34m(\u001b[0m\u001b[0mself\u001b[0m\u001b[0;34m,\u001b[0m \u001b[0mmeta\u001b[0m\u001b[0;34m)\u001b[0m\u001b[0;34m:\u001b[0m\u001b[0;34m\u001b[0m\u001b[0;34m\u001b[0m\u001b[0m\n",
      "\u001b[0;32m/opt/conda/lib/python3.7/site-packages/imageio/plugins/pillow.py\u001b[0m in \u001b[0;36m_append_data\u001b[0;34m(self, im, meta)\u001b[0m\n\u001b[1;32m    362\u001b[0m             \u001b[0;32melse\u001b[0m\u001b[0;34m:\u001b[0m\u001b[0;34m\u001b[0m\u001b[0;34m\u001b[0m\u001b[0m\n\u001b[1;32m    363\u001b[0m                 \u001b[0mim\u001b[0m \u001b[0;34m=\u001b[0m \u001b[0mimage_as_uint\u001b[0m\u001b[0;34m(\u001b[0m\u001b[0mim\u001b[0m\u001b[0;34m,\u001b[0m \u001b[0mbitdepth\u001b[0m\u001b[0;34m=\u001b[0m\u001b[0;36m8\u001b[0m\u001b[0;34m)\u001b[0m\u001b[0;34m\u001b[0m\u001b[0;34m\u001b[0m\u001b[0m\n\u001b[0;32m--> 364\u001b[0;31m             \u001b[0mPillowFormat\u001b[0m\u001b[0;34m.\u001b[0m\u001b[0mWriter\u001b[0m\u001b[0;34m.\u001b[0m\u001b[0m_append_data\u001b[0m\u001b[0;34m(\u001b[0m\u001b[0mself\u001b[0m\u001b[0;34m,\u001b[0m \u001b[0mim\u001b[0m\u001b[0;34m,\u001b[0m \u001b[0mmeta\u001b[0m\u001b[0;34m)\u001b[0m\u001b[0;34m\u001b[0m\u001b[0;34m\u001b[0m\u001b[0m\n\u001b[0m\u001b[1;32m    365\u001b[0m \u001b[0;34m\u001b[0m\u001b[0m\n\u001b[1;32m    366\u001b[0m \u001b[0;34m\u001b[0m\u001b[0m\n",
      "\u001b[0;32m/opt/conda/lib/python3.7/site-packages/imageio/plugins/pillow.py\u001b[0m in \u001b[0;36m_append_data\u001b[0;34m(self, im, meta)\u001b[0m\n\u001b[1;32m    215\u001b[0m             \u001b[0;32mif\u001b[0m \u001b[0;34m\"bits\"\u001b[0m \u001b[0;32min\u001b[0m \u001b[0mself\u001b[0m\u001b[0;34m.\u001b[0m\u001b[0m_meta\u001b[0m\u001b[0;34m:\u001b[0m\u001b[0;34m\u001b[0m\u001b[0;34m\u001b[0m\u001b[0m\n\u001b[1;32m    216\u001b[0m                 \u001b[0mimg\u001b[0m \u001b[0;34m=\u001b[0m \u001b[0mimg\u001b[0m\u001b[0;34m.\u001b[0m\u001b[0mquantize\u001b[0m\u001b[0;34m(\u001b[0m\u001b[0;34m)\u001b[0m  \u001b[0;31m# Make it a P image, so bits arg is used\u001b[0m\u001b[0;34m\u001b[0m\u001b[0;34m\u001b[0m\u001b[0m\n\u001b[0;32m--> 217\u001b[0;31m             \u001b[0mimg\u001b[0m\u001b[0;34m.\u001b[0m\u001b[0msave\u001b[0m\u001b[0;34m(\u001b[0m\u001b[0mself\u001b[0m\u001b[0;34m.\u001b[0m\u001b[0m_fp\u001b[0m\u001b[0;34m,\u001b[0m \u001b[0mformat\u001b[0m\u001b[0;34m=\u001b[0m\u001b[0mself\u001b[0m\u001b[0;34m.\u001b[0m\u001b[0mformat\u001b[0m\u001b[0;34m.\u001b[0m\u001b[0mplugin_id\u001b[0m\u001b[0;34m,\u001b[0m \u001b[0;34m**\u001b[0m\u001b[0mself\u001b[0m\u001b[0;34m.\u001b[0m\u001b[0m_meta\u001b[0m\u001b[0;34m)\u001b[0m\u001b[0;34m\u001b[0m\u001b[0;34m\u001b[0m\u001b[0m\n\u001b[0m\u001b[1;32m    218\u001b[0m             \u001b[0msave_pillow_close\u001b[0m\u001b[0;34m(\u001b[0m\u001b[0mimg\u001b[0m\u001b[0;34m)\u001b[0m\u001b[0;34m\u001b[0m\u001b[0;34m\u001b[0m\u001b[0m\n\u001b[1;32m    219\u001b[0m \u001b[0;34m\u001b[0m\u001b[0m\n",
      "\u001b[0;32m/opt/conda/lib/python3.7/site-packages/PIL/Image.py\u001b[0m in \u001b[0;36msave\u001b[0;34m(self, fp, format, **params)\u001b[0m\n\u001b[1;32m   2162\u001b[0m \u001b[0;34m\u001b[0m\u001b[0m\n\u001b[1;32m   2163\u001b[0m         \u001b[0;32mtry\u001b[0m\u001b[0;34m:\u001b[0m\u001b[0;34m\u001b[0m\u001b[0;34m\u001b[0m\u001b[0m\n\u001b[0;32m-> 2164\u001b[0;31m             \u001b[0msave_handler\u001b[0m\u001b[0;34m(\u001b[0m\u001b[0mself\u001b[0m\u001b[0;34m,\u001b[0m \u001b[0mfp\u001b[0m\u001b[0;34m,\u001b[0m \u001b[0mfilename\u001b[0m\u001b[0;34m)\u001b[0m\u001b[0;34m\u001b[0m\u001b[0;34m\u001b[0m\u001b[0m\n\u001b[0m\u001b[1;32m   2165\u001b[0m         \u001b[0;32mfinally\u001b[0m\u001b[0;34m:\u001b[0m\u001b[0;34m\u001b[0m\u001b[0;34m\u001b[0m\u001b[0m\n\u001b[1;32m   2166\u001b[0m             \u001b[0;31m# do what we can to clean up\u001b[0m\u001b[0;34m\u001b[0m\u001b[0;34m\u001b[0m\u001b[0;34m\u001b[0m\u001b[0m\n",
      "\u001b[0;32m/opt/conda/lib/python3.7/site-packages/PIL/PngImagePlugin.py\u001b[0m in \u001b[0;36m_save\u001b[0;34m(im, fp, filename, chunk, save_all)\u001b[0m\n\u001b[1;32m   1335\u001b[0m         \u001b[0m_write_multiple_frames\u001b[0m\u001b[0;34m(\u001b[0m\u001b[0mim\u001b[0m\u001b[0;34m,\u001b[0m \u001b[0mfp\u001b[0m\u001b[0;34m,\u001b[0m \u001b[0mchunk\u001b[0m\u001b[0;34m,\u001b[0m \u001b[0mrawmode\u001b[0m\u001b[0;34m)\u001b[0m\u001b[0;34m\u001b[0m\u001b[0;34m\u001b[0m\u001b[0m\n\u001b[1;32m   1336\u001b[0m     \u001b[0;32melse\u001b[0m\u001b[0;34m:\u001b[0m\u001b[0;34m\u001b[0m\u001b[0;34m\u001b[0m\u001b[0m\n\u001b[0;32m-> 1337\u001b[0;31m         \u001b[0mImageFile\u001b[0m\u001b[0;34m.\u001b[0m\u001b[0m_save\u001b[0m\u001b[0;34m(\u001b[0m\u001b[0mim\u001b[0m\u001b[0;34m,\u001b[0m \u001b[0m_idat\u001b[0m\u001b[0;34m(\u001b[0m\u001b[0mfp\u001b[0m\u001b[0;34m,\u001b[0m \u001b[0mchunk\u001b[0m\u001b[0;34m)\u001b[0m\u001b[0;34m,\u001b[0m \u001b[0;34m[\u001b[0m\u001b[0;34m(\u001b[0m\u001b[0;34m\"zip\"\u001b[0m\u001b[0;34m,\u001b[0m \u001b[0;34m(\u001b[0m\u001b[0;36m0\u001b[0m\u001b[0;34m,\u001b[0m \u001b[0;36m0\u001b[0m\u001b[0;34m)\u001b[0m \u001b[0;34m+\u001b[0m \u001b[0mim\u001b[0m\u001b[0;34m.\u001b[0m\u001b[0msize\u001b[0m\u001b[0;34m,\u001b[0m \u001b[0;36m0\u001b[0m\u001b[0;34m,\u001b[0m \u001b[0mrawmode\u001b[0m\u001b[0;34m)\u001b[0m\u001b[0;34m]\u001b[0m\u001b[0;34m)\u001b[0m\u001b[0;34m\u001b[0m\u001b[0;34m\u001b[0m\u001b[0m\n\u001b[0m\u001b[1;32m   1338\u001b[0m \u001b[0;34m\u001b[0m\u001b[0m\n\u001b[1;32m   1339\u001b[0m     \u001b[0;32mif\u001b[0m \u001b[0minfo\u001b[0m\u001b[0;34m:\u001b[0m\u001b[0;34m\u001b[0m\u001b[0;34m\u001b[0m\u001b[0m\n",
      "\u001b[0;32m/opt/conda/lib/python3.7/site-packages/PIL/ImageFile.py\u001b[0m in \u001b[0;36m_save\u001b[0;34m(im, fp, tile, bufsize)\u001b[0m\n\u001b[1;32m    522\u001b[0m             \u001b[0;32melse\u001b[0m\u001b[0;34m:\u001b[0m\u001b[0;34m\u001b[0m\u001b[0;34m\u001b[0m\u001b[0m\n\u001b[1;32m    523\u001b[0m                 \u001b[0;32mwhile\u001b[0m \u001b[0;32mTrue\u001b[0m\u001b[0;34m:\u001b[0m\u001b[0;34m\u001b[0m\u001b[0;34m\u001b[0m\u001b[0m\n\u001b[0;32m--> 524\u001b[0;31m                     \u001b[0ml\u001b[0m\u001b[0;34m,\u001b[0m \u001b[0ms\u001b[0m\u001b[0;34m,\u001b[0m \u001b[0md\u001b[0m \u001b[0;34m=\u001b[0m \u001b[0me\u001b[0m\u001b[0;34m.\u001b[0m\u001b[0mencode\u001b[0m\u001b[0;34m(\u001b[0m\u001b[0mbufsize\u001b[0m\u001b[0;34m)\u001b[0m\u001b[0;34m\u001b[0m\u001b[0;34m\u001b[0m\u001b[0m\n\u001b[0m\u001b[1;32m    525\u001b[0m                     \u001b[0mfp\u001b[0m\u001b[0;34m.\u001b[0m\u001b[0mwrite\u001b[0m\u001b[0;34m(\u001b[0m\u001b[0md\u001b[0m\u001b[0;34m)\u001b[0m\u001b[0;34m\u001b[0m\u001b[0;34m\u001b[0m\u001b[0m\n\u001b[1;32m    526\u001b[0m                     \u001b[0;32mif\u001b[0m \u001b[0ms\u001b[0m\u001b[0;34m:\u001b[0m\u001b[0;34m\u001b[0m\u001b[0;34m\u001b[0m\u001b[0m\n",
      "\u001b[0;31mKeyboardInterrupt\u001b[0m: "
     ]
    }
   ],
   "source": [
    "for i in tqdm(range(df.shape[0])):\n",
    "    image = imageio.imread(df[\"input_img_path\"].tolist()[i])\n",
    "    mask = imageio.imread(df[\"input_mask_path\"].tolist()[i])\n",
    "    roi = imageio.imread(re.sub(r'0.png','1.png',df[\"input_mask_path\"].tolist()[i]))\n",
    "    if np.median(mask)>0:\n",
    "        tmp = mask\n",
    "        mask = roi\n",
    "        roi = tmp\n",
    "    rows,cols = np.where(mask>0)\n",
    "    xmin = min(rows); xmax = max(rows); ymin = min(cols); ymax = max(cols)\n",
    "    input_patch = image[xmin:xmax,ymin:ymax]\n",
    "    xdiff = xmax-xmin; ydiff = ymax-ymin\n",
    "    xpad = int(np.ceil(xdiff/2)); ypad = int(np.ceil(ydiff/2))\n",
    "    \n",
    "    if xmin-xpad<0:\n",
    "        xmin = 0; xmax = min(2*xdiff,image.shape[0])\n",
    "    elif xmax+xpad>image.shape[0]:\n",
    "        xmax = image.shape[0]; xmin = max(xmax-2*xdiff,0)\n",
    "    else:\n",
    "        xmin = xmin-xpad; xmax = xmax+xpad\n",
    "    \n",
    "    if ymin-ypad<0:\n",
    "        ymin = 0; ymax = min(2*ydiff,image.shape[1])\n",
    "    elif ymax+ypad>image.shape[1]:\n",
    "        ymax = image.shape[1]; ymin = max(ymax-2*ydiff,0)\n",
    "    else:\n",
    "        ymin = ymin-ypad; ymax = ymax+ypad\n",
    "        \n",
    "    output_patch = image[xmin:xmax,ymin:ymax]\n",
    "    \n",
    "    imageio.imwrite(df[\"output_patch_path\"].tolist()[i],output_patch)"
   ]
  },
  {
   "cell_type": "code",
   "execution_count": 124,
   "id": "featured-worse",
   "metadata": {},
   "outputs": [
    {
     "data": {
      "image/png": "[encoded data removed]",
      "text/plain": [
       "<Figure size 1080x1080 with 6 Axes>"
      ]
     },
     "metadata": {
      "needs_background": "light"
     },
     "output_type": "display_data"
    }
   ],
   "source": [
    "    #i = np.random.choice(df.shape[0],size=1)[0]\n",
    "    i = 1\n",
    "    image = imageio.imread(df[\"input_img_path\"].tolist()[i])\n",
    "    files = glob2.glob(input_topdir+df[\"samp_prefix\"].tolist()[i]+\"_\"+str(df[\"abnormality id\"].tolist()[i])+\"/**/*png\")\n",
    "    mask = imageio.imread(files[0])\n",
    "    roi = imageio.imread(files[1])\n",
    "    if np.median(mask)>0:\n",
    "        tmp = mask\n",
    "        mask = roi\n",
    "        roi = tmp\n",
    "    rows,cols = np.where(mask>0)\n",
    "    xmin = min(rows); xmax = max(rows); ymin = min(cols); ymax = max(cols)\n",
    "    input_patch = image[xmin:xmax,ymin:ymax]\n",
    "    xdiff = xmax-xmin; ydiff = ymax-ymin\n",
    "    xpad = int(np.ceil(xdiff/2)); ypad = int(np.ceil(ydiff/2))\n",
    "    \n",
    "    if xmin-xpad<0:\n",
    "        xmin = 0; xmax = min(2*xdiff,image.shape[0])\n",
    "    elif xmax+xpad>image.shape[0]:\n",
    "        xmax = image.shape[0]; xmin = max(xmax-2*xdiff,0)\n",
    "    else:\n",
    "        xmin = xmin-xpad; xmax = xmax+xpad\n",
    "    \n",
    "    if ymin-ypad<0:\n",
    "        ymin = 0; ymax = min(2*ydiff,image.shape[1])\n",
    "    elif ymax+ypad>image.shape[1]:\n",
    "        ymax = image.shape[1]; ymin = max(ymax-2*ydiff,0)\n",
    "    else:\n",
    "        ymin = ymin-ypad; ymax = ymax+ypad\n",
    "        \n",
    "    output_patch = image[xmin:xmax,ymin:ymax]\n",
    "    output_patch2 = imageio.imread(df[\"output_patch_path\"].tolist()[i])\n",
    "    #output_patch2 = output_patch\n",
    "    \n",
    "    display_images([image,mask,roi,input_patch,output_patch,output_patch2],\n",
    "                   ['image','mask','roi','input_patch','output_patch','output_patch2'],ncol=6)"
   ]
  },
  {
   "cell_type": "code",
   "execution_count": 126,
   "id": "defensive-seventh",
   "metadata": {},
   "outputs": [
    {
     "data": {
      "text/plain": [
       "135"
      ]
     },
     "execution_count": 126,
     "metadata": {},
     "output_type": "execute_result"
    }
   ],
   "source": [
    "np.min(output_patch2)"
   ]
  },
  {
   "cell_type": "code",
   "execution_count": 85,
   "id": "successful-court",
   "metadata": {},
   "outputs": [
    {
     "data": {
      "text/plain": [
       "patient_id                                                           P_00061\n",
       "breast_density                                                             2\n",
       "left or right breast                                                   RIGHT\n",
       "image view                                                                CC\n",
       "abnormality id                                                             1\n",
       "abnormality type                                                        mass\n",
       "mass shape                                                         LOBULATED\n",
       "mass margins                                                   CIRCUMSCRIBED\n",
       "assessment                                                                 3\n",
       "pathology                                                             BENIGN\n",
       "subtlety                                                                   4\n",
       "image file path            Mass-Training_P_00061_RIGHT_CC/1.3.6.1.4.1.959...\n",
       "cropped image file path    Mass-Training_P_00061_RIGHT_CC_1/1.3.6.1.4.1.9...\n",
       "ROI mask file path         Mass-Training_P_00061_RIGHT_CC_1/1.3.6.1.4.1.9...\n",
       "samp_prefix                                   Mass-Training_P_00061_RIGHT_CC\n",
       "input_img_path             /home/alangenb_mit_edu/tensorflow_datasets/dow...\n",
       "input_patch_path           /home/alangenb_mit_edu/tensorflow_datasets/dow...\n",
       "input_mask_path            /home/alangenb_mit_edu/tensorflow_datasets/dow...\n",
       "patch_prefix               1.3.6.1.4.1.9590.100.1.2.177107240613769782603...\n",
       "type                                                    BENIGN_CALCIFICATION\n",
       "output_patch_path          /home/alangenb_mit_edu/tensorflow_datasets/dow...\n",
       "Name: 44, dtype: object"
      ]
     },
     "execution_count": 85,
     "metadata": {},
     "output_type": "execute_result"
    }
   ],
   "source": [
    "df.iloc[i+2,:]"
   ]
  },
  {
   "cell_type": "code",
   "execution_count": 43,
   "id": "korean-scottish",
   "metadata": {},
   "outputs": [
    {
     "data": {
      "text/plain": [
       "array(['/home/alangenb_mit_edu/tensorflow_datasets/downloads/manual/Calc-Training_P_01767_LEFT_MLO_1/1.3.6.1.4.1.9590.100.1.2.270722198212632664505371030281092441303/1.3.6.1.4.1.9590.100.1.2.331885647812413853023991013521986389483/000001.png',\n",
       "       '/home/alangenb_mit_edu/tensorflow_datasets/downloads/manual/Calc-Training_P_01769_LEFT_CC_1/1.3.6.1.4.1.9590.100.1.2.164743507011850305517872835943121018354/1.3.6.1.4.1.9590.100.1.2.11923459413577584828234211130421576740/000001.png',\n",
       "       '/home/alangenb_mit_edu/tensorflow_datasets/downloads/manual/Calc-Training_P_01769_LEFT_MLO_1/1.3.6.1.4.1.9590.100.1.2.230836032512404332717509228824285574962/1.3.6.1.4.1.9590.100.1.2.54835282911909360437657509594097375670/000001.png',\n",
       "       '/home/alangenb_mit_edu/tensorflow_datasets/downloads/manual/Calc-Training_P_01769_RIGHT_CC_1/1.3.6.1.4.1.9590.100.1.2.167736386612488663700014445230198072949/1.3.6.1.4.1.9590.100.1.2.380314661112994145730422846802952564850/000001.png',\n",
       "       '/home/alangenb_mit_edu/tensorflow_datasets/downloads/manual/Calc-Training_P_01769_RIGHT_CC_2/1.3.6.1.4.1.9590.100.1.2.251527098411128714728882638654206553278/1.3.6.1.4.1.9590.100.1.2.369058328311641262026510703373888925627/000001.png',\n",
       "       '/home/alangenb_mit_edu/tensorflow_datasets/downloads/manual/Calc-Training_P_01769_RIGHT_CC_3/1.3.6.1.4.1.9590.100.1.2.90915013412654053030003910722662585136/1.3.6.1.4.1.9590.100.1.2.164598028911838888041871899312943637299/000001.png',\n",
       "       '/home/alangenb_mit_edu/tensorflow_datasets/downloads/manual/Calc-Training_P_01769_RIGHT_CC_4/1.3.6.1.4.1.9590.100.1.2.155918774010983415816015047022800494726/1.3.6.1.4.1.9590.100.1.2.102779793512871660518380965620463645588/000001.png',\n",
       "       '/home/alangenb_mit_edu/tensorflow_datasets/downloads/manual/Calc-Training_P_01769_RIGHT_CC_5/1.3.6.1.4.1.9590.100.1.2.141434016513759505920950263540278002831/1.3.6.1.4.1.9590.100.1.2.275845254213019653123632892530727279253/000001.png',\n",
       "       '/home/alangenb_mit_edu/tensorflow_datasets/downloads/manual/Calc-Training_P_01769_RIGHT_MLO_1/1.3.6.1.4.1.9590.100.1.2.368006445012350379924127953040572111352/1.3.6.1.4.1.9590.100.1.2.152752424810569586613810305431966488657/000001.png',\n",
       "       '/home/alangenb_mit_edu/tensorflow_datasets/downloads/manual/Calc-Training_P_01769_RIGHT_MLO_2/1.3.6.1.4.1.9590.100.1.2.162792024711414129233709559101309370092/1.3.6.1.4.1.9590.100.1.2.240688782811658517640165500400270200594/000001.png'],\n",
       "      dtype='<U234')"
      ]
     },
     "execution_count": 43,
     "metadata": {},
     "output_type": "execute_result"
    }
   ],
   "source": [
    "np.array(df[\"input_patch_path\"].tolist())[(i-5):(i+5)]"
   ]
  },
  {
   "cell_type": "code",
   "execution_count": null,
   "id": "humanitarian-carol",
   "metadata": {},
   "outputs": [],
   "source": []
  }
 ],
 "metadata": {
  "kernelspec": {
   "display_name": "Python 3",
   "language": "python",
   "name": "python3"
  },
  "language_info": {
   "codemirror_mode": {
    "name": "ipython",
    "version": 3
   },
   "file_extension": ".py",
   "mimetype": "text/x-python",
   "name": "python",
   "nbconvert_exporter": "python",
   "pygments_lexer": "ipython3",
   "version": "3.7.10"
  }
 },
 "nbformat": 4,
 "nbformat_minor": 5
}
