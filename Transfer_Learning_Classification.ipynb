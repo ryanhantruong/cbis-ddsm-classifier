{
 "cells": [
  {
   "cell_type": "code",
   "execution_count": 1,
   "id": "premium-syracuse",
   "metadata": {},
   "outputs": [],
   "source": [
    "import tensorflow as tf\n",
    "import tensorflow_datasets as tfds\n",
    "import tensorflow_hub as hub\n",
    "import numpy as np\n",
    "import matplotlib.pyplot as plt"
   ]
  },
  {
   "cell_type": "markdown",
   "id": "pending-camel",
   "metadata": {},
   "source": [
    "### Transfer Learning "
   ]
  },
  {
   "cell_type": "markdown",
   "id": "treated-solomon",
   "metadata": {},
   "source": [
    "Following this guide https://www.tensorflow.org/tutorials/images/transfer_learning"
   ]
  },
  {
   "cell_type": "code",
   "execution_count": 2,
   "id": "minimal-print",
   "metadata": {},
   "outputs": [],
   "source": [
    "(ds_train,ds_test,ds_valid),info = tfds.load('curated_breast_imaging_ddsm/patches', split=['train','test','validation'], shuffle_files=True,\n",
    "              with_info=True)"
   ]
  },
  {
   "cell_type": "code",
   "execution_count": 3,
   "id": "filled-arnold",
   "metadata": {},
   "outputs": [],
   "source": [
    "num_classes = info.features['label'].num_classes"
   ]
  },
  {
   "cell_type": "code",
   "execution_count": 31,
   "id": "accessory-appendix",
   "metadata": {},
   "outputs": [],
   "source": [
    "IMG_SIZE = (224, 224)\n",
    "IMG_SHAPE = (IMG_SIZE + (3,))\n",
    "TRAIN_LENGTH = info.splits['train'].num_examples\n",
    "BATCH_SIZE = 100\n",
    "BUFFER_SIZE = 1000\n",
    "STEPS_PER_EPOCH = 10 #TRAIN_LENGTH // BATCH_SIZE"
   ]
  },
  {
   "cell_type": "code",
   "execution_count": 33,
   "id": "tribal-adolescent",
   "metadata": {},
   "outputs": [],
   "source": [
    "def load_image(datapoint):\n",
    "    input_image = tf.image.resize(datapoint['image'], IMG_SIZE)\n",
    "    input_image = tf.image.grayscale_to_rgb(input_image) # if using pretrained models\n",
    "    return input_image,datapoint['label']"
   ]
  },
  {
   "cell_type": "code",
   "execution_count": 34,
   "id": "colonial-review",
   "metadata": {},
   "outputs": [],
   "source": [
    "train_dataset = ds_train.map(load_image, num_parallel_calls=tf.data.AUTOTUNE)\n",
    "train_dataset = train_dataset.cache().shuffle(BUFFER_SIZE).batch(BATCH_SIZE).repeat()\n",
    "train_dataset = train_dataset.prefetch(buffer_size=tf.data.AUTOTUNE)"
   ]
  },
  {
   "cell_type": "code",
   "execution_count": 35,
   "id": "lesbian-constant",
   "metadata": {},
   "outputs": [],
   "source": [
    "valid_dataset = ds_valid.map(load_image, num_parallel_calls=tf.data.AUTOTUNE)\n",
    "valid_dataset = valid_dataset.batch(BATCH_SIZE).cache()\n",
    "valid_dataset = valid_dataset.prefetch(buffer_size=tf.data.AUTOTUNE)"
   ]
  },
  {
   "cell_type": "markdown",
   "id": "constitutional-necessity",
   "metadata": {},
   "source": [
    "Create base model"
   ]
  },
  {
   "cell_type": "code",
   "execution_count": 36,
   "id": "bacterial-builder",
   "metadata": {},
   "outputs": [
    {
     "name": "stdout",
     "output_type": "stream",
     "text": [
      "Downloading data from https://storage.googleapis.com/tensorflow/keras-applications/mobilenet_v2/mobilenet_v2_weights_tf_dim_ordering_tf_kernels_1.0_224_no_top.h5\n",
      "9412608/9406464 [==============================] - 0s 0us/step\n"
     ]
    }
   ],
   "source": [
    "# Create the base model from the pre-trained model MobileNet V2\n",
    "base_model = tf.keras.applications.MobileNetV2(input_shape=IMG_SHAPE,\n",
    "                                               include_top=False,\n",
    "                                               weights='imagenet')\n",
    "# Freeze convolution base\n",
    "#base_model.trainable = False"
   ]
  },
  {
   "cell_type": "code",
   "execution_count": 37,
   "id": "engaged-poverty",
   "metadata": {},
   "outputs": [],
   "source": [
    "data_augmentation = tf.keras.Sequential([\n",
    "  tf.keras.layers.experimental.preprocessing.RandomFlip('horizontal'),\n",
    "  #tf.keras.layers.experimental.preprocessing.RandomRotation(0.1),\n",
    "])\n",
    "preprocess_input = tf.keras.applications.mobilenet_v2.preprocess_input\n",
    "global_average_layer = tf.keras.layers.GlobalAveragePooling2D()\n",
    "prediction_layer = tf.keras.layers.Dense(num_classes)"
   ]
  },
  {
   "cell_type": "code",
   "execution_count": 38,
   "id": "sexual-allah",
   "metadata": {},
   "outputs": [],
   "source": [
    "inputs = tf.keras.Input(shape=IMG_SHAPE)\n",
    "x = data_augmentation(inputs)\n",
    "x = preprocess_input(x)\n",
    "x = base_model(x, training=False)\n",
    "x = global_average_layer(x)\n",
    "#x = tf.keras.layers.Dropout(0.2)(x)\n",
    "outputs = prediction_layer(x)\n",
    "model = tf.keras.Model(inputs, outputs)"
   ]
  },
  {
   "cell_type": "code",
   "execution_count": 39,
   "id": "medieval-fundamental",
   "metadata": {},
   "outputs": [],
   "source": [
    "#base_learning_rate = 0.0001\n",
    "model.compile(optimizer=tf.keras.optimizers.Adam(),\n",
    "              loss=tf.keras.losses.SparseCategoricalCrossentropy(from_logits=True),\n",
    "              metrics=tf.keras.metrics.SparseCategoricalAccuracy())"
   ]
  },
  {
   "cell_type": "markdown",
   "id": "apart-august",
   "metadata": {},
   "source": [
    "Training"
   ]
  },
  {
   "cell_type": "code",
   "execution_count": 40,
   "id": "temporal-discharge",
   "metadata": {},
   "outputs": [
    {
     "name": "stdout",
     "output_type": "stream",
     "text": [
      "Epoch 1/10\n",
      "10/10 [==============================] - 21s 2s/step - loss: 3.1806 - sparse_categorical_accuracy: 0.2736 - val_loss: 1.4567 - val_sparse_categorical_accuracy: 0.4659\n",
      "Epoch 2/10\n",
      "10/10 [==============================] - 13s 1s/step - loss: 1.4568 - sparse_categorical_accuracy: 0.4545 - val_loss: 1.4212 - val_sparse_categorical_accuracy: 0.4659\n",
      "Epoch 3/10\n",
      "10/10 [==============================] - 13s 1s/step - loss: 1.3858 - sparse_categorical_accuracy: 0.5143 - val_loss: 1.4289 - val_sparse_categorical_accuracy: 0.4659\n",
      "Epoch 4/10\n",
      "10/10 [==============================] - 13s 1s/step - loss: 1.4370 - sparse_categorical_accuracy: 0.4611 - val_loss: 1.4139 - val_sparse_categorical_accuracy: 0.4659\n",
      "Epoch 5/10\n",
      "10/10 [==============================] - 13s 1s/step - loss: 1.4551 - sparse_categorical_accuracy: 0.4407 - val_loss: 1.4184 - val_sparse_categorical_accuracy: 0.4659\n",
      "Epoch 6/10\n",
      "10/10 [==============================] - 13s 1s/step - loss: 1.4374 - sparse_categorical_accuracy: 0.4557 - val_loss: 1.4227 - val_sparse_categorical_accuracy: 0.4659\n",
      "Epoch 7/10\n",
      "10/10 [==============================] - 13s 1s/step - loss: 1.4517 - sparse_categorical_accuracy: 0.4573 - val_loss: 1.4166 - val_sparse_categorical_accuracy: 0.4659\n",
      "Epoch 8/10\n",
      "10/10 [==============================] - 13s 1s/step - loss: 1.3761 - sparse_categorical_accuracy: 0.5031 - val_loss: 1.4123 - val_sparse_categorical_accuracy: 0.4659\n",
      "Epoch 9/10\n",
      "10/10 [==============================] - 13s 1s/step - loss: 1.3924 - sparse_categorical_accuracy: 0.4820 - val_loss: 1.4146 - val_sparse_categorical_accuracy: 0.4659\n",
      "Epoch 10/10\n",
      "10/10 [==============================] - 13s 1s/step - loss: 1.4099 - sparse_categorical_accuracy: 0.4761 - val_loss: 1.4089 - val_sparse_categorical_accuracy: 0.4659\n"
     ]
    }
   ],
   "source": [
    "history = model.fit(train_dataset,\n",
    "                    epochs=10,\n",
    "                    steps_per_epoch=10,\n",
    "                    validation_data=valid_dataset)"
   ]
  },
  {
   "cell_type": "markdown",
   "id": "maritime-minneapolis",
   "metadata": {},
   "source": [
    "Learning curves"
   ]
  },
  {
   "cell_type": "code",
   "execution_count": 41,
   "id": "industrial-working",
   "metadata": {},
   "outputs": [
    {
     "data": {
      "image/png": "[encoded data removed]",
      "text/plain": [
       "<Figure size 576x576 with 2 Axes>"
      ]
     },
     "metadata": {
      "needs_background": "light"
     },
     "output_type": "display_data"
    }
   ],
   "source": [
    "acc = history.history['sparse_categorical_accuracy']\n",
    "val_acc = history.history['val_sparse_categorical_accuracy']\n",
    "\n",
    "loss = history.history['loss']\n",
    "val_loss = history.history['val_loss']\n",
    "\n",
    "plt.figure(figsize=(8, 8))\n",
    "plt.subplot(2, 1, 1)\n",
    "plt.plot(acc, label='Training Accuracy')\n",
    "plt.plot(val_acc, label='Validation Accuracy')\n",
    "plt.legend(loc='lower right')\n",
    "plt.ylabel('Accuracy')\n",
    "plt.ylim([min(plt.ylim()),1])\n",
    "plt.title('Training and Validation Accuracy')\n",
    "\n",
    "plt.subplot(2, 1, 2)\n",
    "plt.plot(loss, label='Training Loss')\n",
    "plt.plot(val_loss, label='Validation Loss')\n",
    "plt.legend(loc='upper right')\n",
    "plt.ylabel('Cross Entropy')\n",
    "plt.ylim([0,1.0])\n",
    "plt.title('Training and Validation Loss')\n",
    "plt.xlabel('epoch')\n",
    "plt.show()"
   ]
  },
  {
   "cell_type": "code",
   "execution_count": null,
   "id": "amazing-concentration",
   "metadata": {},
   "outputs": [],
   "source": []
  }
 ],
 "metadata": {
  "environment": {
   "name": "tf2-gpu.2-4.m65",
   "type": "gcloud",
   "uri": "gcr.io/deeplearning-platform-release/tf2-gpu.2-4:m65"
  },
  "kernelspec": {
   "display_name": "Python 3",
   "language": "python",
   "name": "python3"
  },
  "language_info": {
   "codemirror_mode": {
    "name": "ipython",
    "version": 3
   },
   "file_extension": ".py",
   "mimetype": "text/x-python",
   "name": "python",
   "nbconvert_exporter": "python",
   "pygments_lexer": "ipython3",
   "version": "3.7.10"
  }
 },
 "nbformat": 4,
 "nbformat_minor": 5
}
